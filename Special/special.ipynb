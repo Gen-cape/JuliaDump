{
 "cells": [
  {
   "cell_type": "markdown",
   "metadata": {},
   "source": [
    "## необходимые функции и пояснения"
   ]
  },
  {
   "cell_type": "markdown",
   "metadata": {},
   "source": [
    "By Поляков Борис Георгиевич КМБО-03-23 thewaterbox@yandex.ru"
   ]
  },
  {
   "cell_type": "code",
   "execution_count": null,
   "metadata": {},
   "outputs": [],
   "source": [
    "include(\"../KingBot.jl\")"
   ]
  },
  {
   "cell_type": "markdown",
   "metadata": {},
   "source": [
    "Импортированные объекты:\n",
    "\n",
    "1. Структура-обертка, фигура \"Король\" на шахматном поле\n",
    "    KingBot содержит:\n",
    "    * robot::HorizonSideRobots.Robot - Инстанция робота пакета HorizonSideRobots  \n",
    "    * rx::Integer - изменение по оси x относительно старта или очистки буфера  \n",
    "    * ry::Integer - изменение по оси y относительно старта или очистки буфера  \n",
    "    * movesBuffer::Array{MoveLog} - буфер, содержащий историю движений робота  \n",
    "    * traceMove::Bool - Это логическое поле, указывающее, следует ли отслеживать перемещения робота.  \n",
    "    * moveFunction::Function - определяющая движения функция для совместимости с другими пакетами или особыми типами движения\n",
    "\n",
    "    <br>\n",
    "2. Буфер, состоит из структур MoveLog\n",
    "    * direction::Union{Nothing, HorizonSideRobots.HorizonSide, Diagonal} - направление\n",
    "    * steps::Union{Nothing, Integer} - количество шагов\n",
    "\n",
    "    <br>\n",
    "\n",
    "3. Аналоги (обертки) функций робота из пакета HorizonSideRobots для фигуры KingBot, (move!, isborder, putmarker! и др.)\n",
    "\n",
    "4. Функции поворота\n",
    "    * inverse(...) - разворачивает направление заданного объекта на 180 градусов\n",
    "    * turnCounterClockwise(side::HorizonSide) - разворачивает переданное направление один раз против часовой стрелки\n",
    "    * turnClockwise(side::HorizonSide) = HorizonSide(mod(Int(side)-1,4)) - разворачивает переданное направление один раз по часовой стрелке\n",
    "\n",
    "    <br>\n",
    "5. Служебные функции\n",
    "    * clearBuffer! - очищает буфер движений в инстанции KingBot\n",
    "    * clearLogging! - очищает помимо буфера релятивные координаты\n",
    "    * moveTill! - двигает робота в заданном направлении до наступления условия\n",
    "    * checkAllBorders - возвращает вектор из границ вокруг робота (без диагоналей)\n",
    "    * checkAllUnblockedPaths - возвращает вектор из свободных направлений вокруг робота (без диагоналей)\n",
    "\n",
    "    <br>\n",
    "6. Функция обхода\n",
    "getNextPerimeterSide - возвращает следующую сторону для обхода фигуры по часовой/против часовой стрелки\n",
    "\n",
    "    Аргументы:\n",
    "    * bot::KingBot - инстанция фигуры KingBot\n",
    "    * dominatingSide - сторона, указывающая на расположение заданной фигуры относительно робота в начале\n",
    "    * rotatingFunction::Function=turnClockwise - функция вращения, по умолчанию по часовой\n",
    "\n",
    "Идея логики выбора стороны:\n",
    "\n",
    "Однозначно определено направление движения по функции вращения если робот стоит у 3 или 2 стен  \n",
    "Если робот не сдвигался вокруг фигуры - робот ориентируется на переданную сторону и делает выбор по ней (например если две фигуры стоят вплотную)  \n",
    "В остальных случаях рассматривается последнее движение робота и его поворот, если нельзя провернуть - робот продолжает движение по последнему ходу"
   ]
  },
  {
   "cell_type": "markdown",
   "metadata": {},
   "source": [
    "### Задание 1. Определить внутри или снаружи"
   ]
  },
  {
   "cell_type": "code",
   "execution_count": null,
   "metadata": {},
   "outputs": [],
   "source": [
    "function isInside!(bot::KingBot, side::HorizonSide, rotatingFunction::Function=turnClockwise)\n",
    "    moveTill!(bot, side, isborder, [bot, side])\n",
    "    clearLogging!(bot)\n",
    "    \n",
    "    toCheck = checkAllBorders(bot)\n",
    "    up, left, down, right = false, false, false, false\n",
    "    maxY, maxX, minY, minX = 0, 0, 0, 0\n",
    "\n",
    "    # these inner functions arent supposed to be used anywhere else, they are sort of Syntactic sugar\n",
    "    # updates toCheck based on the bot's last moves and the type of rotatingFunction\n",
    "    function excludeSides!()\n",
    "        if isempty(bot.movesBuffer)\n",
    "            side = rotatedNextMove()\n",
    "            setdiff!(toCheck, [side])\n",
    "        else\n",
    "            side = rotatingFunction(last(bot.movesBuffer).direction)\n",
    "            (bot.rx == 0 && bot.ry == 0) && setdiff!(toCheck, [side])\n",
    "        end\n",
    "\n",
    "        if !isempty(bot.movesBuffer) && (bot.rx == 0 && bot.ry == 0) && length(checkAllBorders(bot)) == 3\n",
    "            empty!(toCheck)\n",
    "        end\n",
    "    end\n",
    "\n",
    "    # the function returns next side to move around object after rotating it \n",
    "    function rotatedNextMove()\n",
    "        return rotatingFunction(getNextPerimeterSide(bot, side, rotatingFunction))\n",
    "    end\n",
    "\n",
    "    # the function returns next side to move around object without rotating it \n",
    "    function nextMove()\n",
    "        return getNextPerimeterSide(bot, side,rotatingFunction)\n",
    "    end\n",
    "\n",
    "    while true\n",
    "        # update toCheck\n",
    "        excludeSides!()\n",
    "\n",
    "        # update flags to determine bot's position\n",
    "        if !isempty(checkAllBorders(bot)) && isborder(bot, rotatedNextMove())\n",
    "            maxY = max(maxY, bot.ry)\n",
    "            minY = min(minY, bot.ry)\n",
    "            maxX = max(maxX, bot.rx)\n",
    "            minX = min(minX, bot.rx)\n",
    "            if bot.ry >= maxY up = !isborder(bot, inverse(North)) end\n",
    "            if bot.ry <= minY down = !isborder(bot, inverse(South)) end\n",
    "            if bot.rx >= maxX right = !isborder(bot, inverse(East)) end\n",
    "            if bot.rx <= minX left = !isborder(bot, inverse(West)) end\n",
    "        end\n",
    "\n",
    "        # if the toCheck is empty, the movement around structure is completed\n",
    "        if isempty(toCheck)\n",
    "            return any([up, left, down, right])\n",
    "        end\n",
    "        \n",
    "        move!(bot, nextMove())\n",
    "\n",
    "    end\n",
    "end"
   ]
  },
  {
   "cell_type": "markdown",
   "metadata": {},
   "source": [
    "Ключевые моменты функции:\n",
    "\n",
    "1. Вектор toCheck нужен чтобы отслеживать остановку обхода не только по координатам (то, что робот попал в (0,0) второй раз не означает, что обход закончен, поэтому нужна дополнительная информация). Инициализируется перегородками вокруг робота в стартовой позиции\n",
    "\n",
    "2. up, left, down, right, maxY, maxX, minY, minX отслеживают координаты и состояние робота в крайних точках лабиринта.\n",
    "Если к границе можно прийти изнутри (из противоположного направления) - значит робот находится внутри. Очевидно, что если робот снаружи - таких точек не найдется. Углы игнорируются.\n",
    "\n",
    "Перед рабочим циклом: Дойти до заданной формации и обнулить собранную информацию (если робот начинает не у стенки формации)\n",
    " \n",
    "3. Общий вид рабочего цикла:\n",
    "- обновить toCheck\n",
    "- обновить переменные up, left, down, right и учет краев\n",
    "- Проверить условия прерывания цикла\n",
    "- Сделать следующее движение по периметру"
   ]
  },
  {
   "cell_type": "markdown",
   "metadata": {},
   "source": [
    "2. Определить площадь фигуры"
   ]
  },
  {
   "cell_type": "code",
   "execution_count": null,
   "metadata": {},
   "outputs": [],
   "source": [
    "function calculateArea!(bot::KingBot, side::HorizonSide, rotatingFunction::Function=turnClockwise)\n",
    "    moveTill!(bot, side, isborder, [bot, side])\n",
    "    clearLogging!(bot)\n",
    "\n",
    "    toCheck = checkAllBorders(bot)\n",
    "    cnt = 0\n",
    "    # these inner functions arent supposed to be used anywhere else, they are sort of Syntactic sugar\n",
    "    # check the left side and update counter\n",
    "    function checkLeft()\n",
    "        if isborder(bot, West)\n",
    "            # putmarker!(bot)\n",
    "            # println(\"+ $(bot.rx) ($(bot.rx), $(bot.ry)) \")\n",
    "            cnt += bot.rx\n",
    "        end\n",
    "    end\n",
    "    # check the right side and update counter\n",
    "    function checkRight()\n",
    "        if isborder(bot, East)\n",
    "            # println(\"- $(bot.rx + 1) ($(bot.rx), $(bot.ry)) \")\n",
    "            # putmarker!(bot)\n",
    "            # add correction\n",
    "            cnt -= bot.rx + 1\n",
    "        end\n",
    "    end\n",
    "\n",
    "    # handle which side to update depending on the rotatingFunction\n",
    "    function checkBoth!(side::HorizonSide)\n",
    "        if side in (rotatingFunction(West), East) checkRight()\n",
    "        else checkLeft()\n",
    "        end\n",
    "    end\n",
    "    \n",
    "    # the function returns next side to move around object after rotating it \n",
    "    function rotatedNextMove()\n",
    "        return rotatingFunction(getNextPerimeterSide(bot, side, rotatingFunction))\n",
    "    end\n",
    "    \n",
    "    # the function returns next side to move around object without rotating it \n",
    "    function nextMove()\n",
    "        return getNextPerimeterSide(bot, side,rotatingFunction)\n",
    "    end\n",
    "\n",
    "    function lastMove()\n",
    "        if isempty(bot.movesBuffer)\n",
    "            return nextMove()\n",
    "        end\n",
    "        return last(bot.movesBuffer).direction\n",
    "    end\n",
    "\n",
    "    # updates toCheck based on the bot's last moves and the type of rotatingFunction\n",
    "    function excludeSides!()\n",
    "        # println(toCheck)\n",
    "        if isempty(bot.movesBuffer)\n",
    "            side = rotatedNextMove()\n",
    "            if length(toCheck) == 3\n",
    "                checkLeft()\n",
    "                checkRight()\n",
    "            end\n",
    "            setdiff!(toCheck, [side])\n",
    "        else\n",
    "            side = rotatingFunction(last(bot.movesBuffer).direction)\n",
    "            if (bot.rx == 0 && bot.ry == 0)\n",
    "                if (length(checkAllBorders(bot)) != 3)\n",
    "                    checkBoth!(lastMove())\n",
    "                end\n",
    "                setdiff!(toCheck, [side])\n",
    "            end\n",
    "        end\n",
    "\n",
    "        if !isempty(bot.movesBuffer) && (bot.rx == 0 && bot.ry == 0) && length(checkAllBorders(bot)) == 3\n",
    "            empty!(toCheck)\n",
    "        end\n",
    "    end\n",
    "\n",
    "    while true\n",
    "        # update toCheck\n",
    "        excludeSides!()\n",
    "        \n",
    "        # if the toCheck is empty, the movement around structure is completed\n",
    "        if isempty(toCheck)\n",
    "            return cnt\n",
    "        end\n",
    "        \n",
    "        # update counter\n",
    "        if isborder(bot, rotatedNextMove()) && !isempty(bot.movesBuffer) && (bot.rx != 0 || bot.ry != 0)\n",
    "            checkBoth!(lastMove())\n",
    "            if length(checkAllBorders(bot)) == 3\n",
    "                checkBoth!(inverse(lastMove()))\n",
    "            end\n",
    "        end\n",
    "        \n",
    "        move!(bot, nextMove())\n",
    "    end\n",
    "end"
   ]
  },
  {
   "cell_type": "markdown",
   "metadata": {},
   "source": [
    "Ключевые моменты функции:\n",
    "\n",
    "1. Вектор toCheck нужен чтобы отслеживать остановку обхода не только по координатам (то, что робот попал в (0,0) второй раз не означает, что обход закончен, поэтому нужна дополнительная информация). Инициализируется перегородками вокруг робота в стартовой позиции \n",
    "\n",
    "2. Робот смотрит на некоторую сторону (в зависимости от вращающей функции) и обновляет по ней счетчик. Обновление происходит в виде обработки разности координат X границы и начального положения с корректировкой. Операции делегирует вызов функции checkBoth!\n",
    "\n",
    "Перед рабочим циклом: Дойти до заданной формации и обнулить собранную информацию (если робот начинает не у стенки формации)\n",
    "\n",
    "3. Общий вид рабочего цикла:\n",
    "- Обновить toCheck\n",
    "- Проверить условия прерывания цикла\n",
    "- Осмотреть границы (в зависимости от вращающей функции) и обновить счетчик\n",
    "- Сделать следующее движение по периметру"
   ]
  },
  {
   "cell_type": "markdown",
   "metadata": {},
   "source": [
    "## Тесты 1 функции:"
   ]
  },
  {
   "cell_type": "code",
   "execution_count": null,
   "metadata": {},
   "outputs": [],
   "source": [
    "# Для показа работы функции в данном блоке\n",
    "function testInside!(situationFile, side, rotatingFunction=turnClockwise)\n",
    "    bot = KingBot(situationFile)\n",
    "    sleep(0.5) # чтобы можно было увидеть откуда робот начинает\n",
    "    if isInside!(bot, side, rotatingFunction)\n",
    "        println(\"Внутри\")\n",
    "    else \n",
    "        println(\"Снаружи\")\n",
    "    end\n",
    "end"
   ]
  },
  {
   "cell_type": "code",
   "execution_count": null,
   "metadata": {},
   "outputs": [],
   "source": [
    "testInside!(\"Situations/1.sit\", North)"
   ]
  },
  {
   "cell_type": "code",
   "execution_count": null,
   "metadata": {},
   "outputs": [],
   "source": [
    "testInside!(\"Situations/1.1.sit\", North, turnCounterClockwise)"
   ]
  },
  {
   "cell_type": "code",
   "execution_count": null,
   "metadata": {},
   "outputs": [],
   "source": [
    "testInside!(\"Situations/1.2.sit\", South)"
   ]
  },
  {
   "cell_type": "code",
   "execution_count": null,
   "metadata": {},
   "outputs": [],
   "source": [
    "testInside!(\"Situations/2.sit\", South, turnCounterClockwise)"
   ]
  },
  {
   "cell_type": "code",
   "execution_count": null,
   "metadata": {},
   "outputs": [],
   "source": [
    "testInside!(\"Situations/3.sit\", North)"
   ]
  },
  {
   "cell_type": "code",
   "execution_count": null,
   "metadata": {},
   "outputs": [],
   "source": [
    "testInside!(\"Situations/3.1.sit\", South)"
   ]
  },
  {
   "cell_type": "markdown",
   "metadata": {},
   "source": [
    "## Тесты 2 функции"
   ]
  },
  {
   "cell_type": "markdown",
   "metadata": {},
   "source": [
    "Note: Эта же функция дает информацию, находится ли робот внутри или снаружи.  \n",
    "Площадь равна полученному значению по модулю. Если функция выдает отрицательное значение - робот внутри формации, если положительное - снаружи"
   ]
  },
  {
   "cell_type": "code",
   "execution_count": null,
   "metadata": {},
   "outputs": [],
   "source": [
    "# Для показа работы функции в данном блоке\n",
    "function testArea!(situationFile, side, rotatingFunction=turnClockwise)\n",
    "    bot = KingBot(situationFile)\n",
    "    sleep(0.5) # чтобы можно было увидеть откуда робот начинает\n",
    "    println(calculateArea!(bot, side, rotatingFunction))\n",
    "end"
   ]
  },
  {
   "cell_type": "code",
   "execution_count": null,
   "metadata": {},
   "outputs": [],
   "source": [
    "testArea!(\"Situations/1.sit\", North)\n",
    "#Answer = 18"
   ]
  },
  {
   "cell_type": "code",
   "execution_count": null,
   "metadata": {},
   "outputs": [],
   "source": [
    "testArea!(\"Situations/1.1.sit\", North, turnCounterClockwise)\n",
    "#Answer = 18"
   ]
  },
  {
   "cell_type": "code",
   "execution_count": null,
   "metadata": {},
   "outputs": [],
   "source": [
    "testArea!(\"Situations/1.2.sit\", South)\n",
    "#Answer = -18 (Внутри)"
   ]
  },
  {
   "cell_type": "code",
   "execution_count": null,
   "metadata": {},
   "outputs": [],
   "source": [
    "testArea!(\"Situations/2.sit\", South)\n",
    "#Answer = 5"
   ]
  },
  {
   "cell_type": "code",
   "execution_count": null,
   "metadata": {},
   "outputs": [],
   "source": [
    "testArea!(\"Situations/3.sit\", South)\n",
    "#Answer = -17 (Внутри)"
   ]
  },
  {
   "cell_type": "code",
   "execution_count": null,
   "metadata": {},
   "outputs": [],
   "source": [
    "testArea!(\"Situations/3.1.sit\", South)\n",
    "#Answer = 17"
   ]
  }
 ],
 "metadata": {
  "kernelspec": {
   "display_name": "Julia 1.9.3",
   "language": "julia",
   "name": "julia-1.9"
  },
  "language_info": {
   "file_extension": ".jl",
   "mimetype": "application/julia",
   "name": "julia",
   "version": "1.9.3"
  }
 },
 "nbformat": 4,
 "nbformat_minor": 2
}
