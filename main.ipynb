{
 "cells": [
  {
   "cell_type": "markdown",
   "metadata": {},
   "source": [
    "## main file with solutions and functions for HorizonSideRobots course"
   ]
  },
  {
   "cell_type": "markdown",
   "metadata": {},
   "source": [
    "### Zero: function collecton, execute it! (and dont forget to fold it when you dont need it)"
   ]
  },
  {
   "cell_type": "code",
   "execution_count": 11,
   "metadata": {},
   "outputs": [
    {
     "data": {
      "text/plain": [
       "snakeFromCorner! (generic function with 4 methods)"
      ]
     },
     "metadata": {},
     "output_type": "display_data"
    }
   ],
   "source": [
    "using HorizonSideRobots\n",
    "include(\"Cbot.jl\")"
   ]
  },
  {
   "cell_type": "markdown",
   "metadata": {},
   "source": [
    "### Task 1: fill the cross"
   ]
  },
  {
   "cell_type": "code",
   "execution_count": 12,
   "metadata": {},
   "outputs": [],
   "source": [
    "\"\"\"the following function fills the cross form\"\"\"\n",
    "function cross!(bot::Cbot)\n",
    "    for i in range(0, 3)\n",
    "        side = HorizonSide(i)\n",
    "        markLine!(bot,side)\n",
    "        returnSafe!(bot)\n",
    "    end\n",
    "    putmarker!(bot)\n",
    "end\n",
    "\n",
    "r = Cbot(\"default.sit\")\n",
    "\n",
    "cross!(r)"
   ]
  },
  {
   "cell_type": "markdown",
   "metadata": {},
   "source": [
    "### Task 2: fill in the entire canvas"
   ]
  },
  {
   "cell_type": "code",
   "execution_count": 13,
   "metadata": {},
   "outputs": [
    {
     "data": {
      "text/plain": [
       "true"
      ]
     },
     "metadata": {},
     "output_type": "display_data"
    }
   ],
   "source": [
    "\"\"\"the following function fills the whole canvas\"\"\"\n",
    "function fullCanvas!(bot::Cbot; returnFunction=returnLinear!)\n",
    "    moveTill!(bot, South, isborder, [bot, South])\n",
    "    moveTill!(bot, West, isborder, [bot, West])\n",
    "    putmarker!(bot)\n",
    "    while true\n",
    "        \"\"\"\n",
    "        moving direction is needed so that if the field has an odd number of columns,\n",
    "        the program does not forget to process the last column. for a square (and not a possible rectangle),\n",
    "        you can always check only the borders from the bottom and right in that particular case.\n",
    "        \"\"\"\n",
    "        movingDirection = North\n",
    "        if isborder(bot, South)\n",
    "            markLine!(bot, North)\n",
    "            movingDirection = North\n",
    "        else\n",
    "            markLine!(bot, South)\n",
    "            movingDirection = South\n",
    "        end\n",
    "\n",
    "        # stopping condition\n",
    "        if isborder(bot, movingDirection) && isborder(bot, East) break end\n",
    "        \n",
    "        move!(bot, East)\n",
    "        putmarker!(bot)\n",
    "    end\n",
    "\n",
    "    returnFunction(bot)\n",
    "\n",
    "end\n",
    "\n",
    "r = Cbot(\"default.sit\")\n",
    "\n",
    "fullCanvas!(r)"
   ]
  },
  {
   "cell_type": "markdown",
   "metadata": {},
   "source": [
    "### Task 3: fill in the perimeter"
   ]
  },
  {
   "cell_type": "code",
   "execution_count": 14,
   "metadata": {},
   "outputs": [
    {
     "data": {
      "text/plain": [
       "true"
      ]
     },
     "metadata": {},
     "output_type": "display_data"
    }
   ],
   "source": [
    "\"\"\"the following function fills the perimeter\"\"\"\n",
    "function perimeter!(r::Cbot; returnFunction=returnLinear!)\n",
    "    moveToCornerSimple(r, SouthWest, 3)\n",
    "    for direction in (North, East, South, West)\n",
    "        markLine!(r, direction)\n",
    "    end\n",
    "    \n",
    "    returnFunction(r)\n",
    "end\n",
    "\n",
    "r = Cbot(\"default.sit\")\n",
    "\n",
    "perimeter!(r)"
   ]
  },
  {
   "cell_type": "markdown",
   "metadata": {},
   "source": [
    "### Task 4: task: fill in the tilted cross"
   ]
  },
  {
   "cell_type": "code",
   "execution_count": 15,
   "metadata": {},
   "outputs": [
    {
     "data": {
      "text/plain": [
       "markLine! (generic function with 2 methods)"
      ]
     },
     "metadata": {},
     "output_type": "display_data"
    }
   ],
   "source": [
    "\"\"\"\n",
    "Its possible to tiled the cross using the same cross!() function\n",
    "I reimplemented move! and markLine! with tilted direction (45 degrees left)\n",
    "run the first cell after executing this one to return the original functions!\n",
    "\n",
    "\"\"\"\n",
    "\n",
    "counterClockwise(side::HorizonSide) = HorizonSide(mod(Int(side)+1,4))\n",
    "\n",
    "function tiltedMove!(r::Cbot, side::HorizonSide)\n",
    "    move!(r, side)\n",
    "    move!(r, counterClockwise(side))\n",
    "end\n",
    "\n",
    "function markLine!(r::Cbot,side::HorizonSide)\n",
    "    while !isborder(r,side) && !isborder(r, counterClockwise(side))\n",
    "        tiltedMove!(r,side)\n",
    "        putmarker!(r)\n",
    "    end\n",
    "end\n",
    "\n",
    "r = Cbot(\"default.sit\")\n",
    "\n",
    "cross!(r)\n",
    "# fixing reimplemented markLine\n",
    "function markLine!(bot::Cbot,side::HorizonSide)\n",
    "    while !isborder(bot,side) \n",
    "        move!(bot,side)\n",
    "        putmarker!(bot)\n",
    "    end\n",
    "end"
   ]
  },
  {
   "cell_type": "markdown",
   "metadata": {},
   "source": [
    "### Task 5: task: two frames"
   ]
  },
  {
   "cell_type": "code",
   "execution_count": 16,
   "metadata": {},
   "outputs": [
    {
     "data": {
      "text/plain": [
       "true"
      ]
     },
     "metadata": {},
     "output_type": "display_data"
    }
   ],
   "source": [
    "# Do NOT execute it not from corner, it gets context from it\n",
    "function snakeFromCorner!(bot::Cbot,mark, event::Function=HorizonSideRobots.isborder, args::Array{Any}=[])\n",
    "    verticalBorder = isborder(bot, North) ? North : (isborder(bot, South) ? South : nothing)\n",
    "    horizontalBorder = isborder(bot, East) ? East : (isborder(bot, West) ? West : nothing)\n",
    "    @assert isnothing(verticalBorder) || isnothing(horizontalBorder) == false\n",
    "    vMovementDir = inverse(verticalBorder)\n",
    "    hMovementDir = inverse(horizontalBorder)\n",
    "    while !event(args...)\n",
    "        moveTill!(bot, hMovementDir, isborder, [bot, (hMovementDir, vMovementDir), false, true]; mark=mark)\n",
    "        if isborder(bot, vMovementDir) break end\n",
    "        !isborder(bot, vMovementDir) && move!(bot, vMovementDir)\n",
    "        hMovementDir = inverse(hMovementDir)\n",
    "    end\n",
    "end\n",
    "\n",
    "function moveAround!(bot::Cbot, initialStickingDirection=North)\n",
    "    secondaryDirection = turnClockwise(initialStickingDirection)\n",
    "    # print(secondaryDirection)\n",
    "    moveTill!(bot, inverse(secondaryDirection),inverse, [isborder, [bot, initialStickingDirection]])\n",
    "    move!(bot, secondaryDirection)\n",
    "    for _ in 1:4\n",
    "        moveTill!(bot, secondaryDirection,inverse, [isborder, [bot, initialStickingDirection]]; mark=true)\n",
    "        move!(bot, initialStickingDirection, mark=true)\n",
    "        initialStickingDirection = turnCounterClockwise(initialStickingDirection)\n",
    "        secondaryDirection = turnClockwise(initialStickingDirection)\n",
    "    end\n",
    "end\n",
    "\n",
    "function twoFrames!(bot::Cbot, returnFunction=returnSafe!)\n",
    "    moveToCornerSimple(bot, SW, 3)\n",
    "    perimeter!(bot)\n",
    "    moveToCornerSimple(bot, SW, 3)\n",
    "    snakeFromCorner!(bot, false, isborder, [bot, North])\n",
    "    moveAround!(bot, North)\n",
    "    returnFunction(bot)\n",
    "end\n",
    "\n",
    "r = Cbot(\"./Situations/MoveAround.sit\")\n",
    "\n",
    "twoFrames!(r)"
   ]
  },
  {
   "cell_type": "markdown",
   "metadata": {},
   "source": [
    "## Task 6: Perimeter again a)"
   ]
  },
  {
   "cell_type": "code",
   "execution_count": 17,
   "metadata": {},
   "outputs": [
    {
     "data": {
      "text/plain": [
       "true"
      ]
     },
     "metadata": {},
     "output_type": "display_data"
    }
   ],
   "source": [
    "r = Cbot(\"Situations/6.sit\")\n",
    "moveToCornerInf(r, SW)\n",
    "perimeter!(r;returnFunction=returnSafe!)"
   ]
  },
  {
   "cell_type": "markdown",
   "metadata": {},
   "source": [
    "## Task 6: Perimeter again b)"
   ]
  },
  {
   "cell_type": "code",
   "execution_count": 18,
   "metadata": {},
   "outputs": [
    {
     "data": {
      "text/plain": [
       "true"
      ]
     },
     "metadata": {},
     "output_type": "display_data"
    }
   ],
   "source": [
    "function perimeter!(r::Cbot, event::Function, args;returnFunction=returnSafe!)\n",
    "    moveToCornerInf(r, SouthWest)\n",
    "    for direction in (North, East, South, West)\n",
    "        markLine!(r, direction, event, args)\n",
    "    end\n",
    "    \n",
    "    returnFunction(r)\n",
    "end\n",
    "\n",
    "r = Cbot(\"Situations/6.sit\")\n",
    "\n",
    "perimeter!(r,bot -> (bot.rx == 0 || bot.ry == 0), r)"
   ]
  },
  {
   "cell_type": "markdown",
   "metadata": {},
   "source": [
    "## Task 7: Find the gap"
   ]
  },
  {
   "cell_type": "code",
   "execution_count": 19,
   "metadata": {},
   "outputs": [],
   "source": [
    "function linearSearch(bot::Cbot,startingDirection::HorizonSide,  event::Function, args...)\n",
    "    currentDirection = startingDirection\n",
    "    ampl = 1\n",
    "    while !event(args...)\n",
    "        move!(bot, currentDirection, ampl)\n",
    "        currentDirection = inverse(currentDirection)\n",
    "        ampl += 1\n",
    "    end\n",
    "end\n",
    "\n",
    "r = Cbot(\"Situations/7.sit\")\n",
    "\n",
    "linearSearch(r, West, inverse, isborder, r, North)"
   ]
  },
  {
   "cell_type": "markdown",
   "metadata": {},
   "source": [
    "## Task 8: Find the marker"
   ]
  },
  {
   "cell_type": "code",
   "execution_count": 20,
   "metadata": {},
   "outputs": [],
   "source": [
    "function ouroboros(bot::Cbot, diagonal::Diagonal, event::Function, args)\n",
    "    currentDirection, secondaryDirection = unpackDiagonal(diagonal)\n",
    "    rotatingFunction = secondaryDirection == turnClockwise(currentDirection) ? turnClockwise : turnCounterClockwise\n",
    "    ampl = 0\n",
    "    while !event(args)\n",
    "        move!(bot, currentDirection, 1+div(ampl, 2), event, args)\n",
    "        ampl += 1\n",
    "        currentDirection=rotatingFunction(currentDirection)\n",
    "    end\n",
    "end\n",
    "\n",
    "r = Cbot(\"./Situations/8.sit\")\n",
    "\n",
    "ouroboros(r, NW, ismarker, r)"
   ]
  },
  {
   "cell_type": "markdown",
   "metadata": {},
   "source": [
    "## Task 9 and 13: Chessboard"
   ]
  },
  {
   "cell_type": "code",
   "execution_count": 21,
   "metadata": {},
   "outputs": [],
   "source": [
    "using HorizonSideRobots\n",
    "include(\"Cbot.jl\")\n",
    "\n",
    "\n",
    "function snakeFromCorner!(bot::Cbot, event1::Function, args1, event2::Function, args2)\n",
    "    verticalBorder = isborder(bot, North) ? North : (isborder(bot, South) ? South : nothing)\n",
    "    horizontalBorder = isborder(bot, East) ? East : (isborder(bot, West) ? West : nothing)\n",
    "    @assert isnothing(verticalBorder) || isnothing(horizontalBorder) == false\n",
    "    vMovementDir = inverse(verticalBorder)\n",
    "    hMovementDir = inverse(horizontalBorder)\n",
    "    while !event1(args1...)\n",
    "        moveTill!(bot, hMovementDir, isborder, [bot,hMovementDir], event2, [args2])\n",
    "        hMovementDir = inverse(hMovementDir)\n",
    "        !isborder(bot, vMovementDir) && move!(bot, vMovementDir)\n",
    "    end\n",
    "end\n",
    "\n",
    "r = Cbot(\"default.sit\")\n",
    "moveToCornerInf(r, SW)\n",
    "snakeFromCorner!(r, cornered, [r, NE], bot -> (mod(bot.rx + bot.ry, 2)==0 ), r)"
   ]
  }
 ],
 "metadata": {
  "kernelspec": {
   "display_name": "Julia 1.9.3",
   "language": "julia",
   "name": "julia-1.9"
  },
  "language_info": {
   "file_extension": ".jl",
   "mimetype": "application/julia",
   "name": "julia",
   "version": "1.9.3"
  },
  "orig_nbformat": 4
 },
 "nbformat": 4,
 "nbformat_minor": 2
}
