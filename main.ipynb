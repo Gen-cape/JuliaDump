{
 "cells": [
  {
   "cell_type": "code",
   "execution_count": null,
   "metadata": {},
   "outputs": [],
   "source": [
    "# this repository contais files to practise with julia"
   ]
  },
  {
   "cell_type": "markdown",
   "metadata": {},
   "source": [
    "### 1 закрыть крест от исходного положения"
   ]
  },
  {
   "cell_type": "code",
   "execution_count": 7,
   "metadata": {},
   "outputs": [
    {
     "data": {
      "text/plain": [
       "Robot(HorizonSideRobots.SituationDatas.SituationData((0x000000000000000b, 0x000000000000000c), 1.0, false, (6, 6), [381 283 … 216 106; 397 -90 … 491 -227; … ; 132 -202 … -228 218; -48 113 … 205 -30], Set{Tuple{Int64, Int64}}(), Set{HorizonSide}[Set() Set() … Set() Set(); Set() Set() … Set() Set(); … ; Set() Set() … Set() Set(); Set() Set() … Set() Set()], (Scene (780px, 715px):\n",
       "  0 Plots\n",
       "  1 Child Scene:\n",
       "    └ Scene (780px, 715px), Axis (6 plots))), true)"
      ]
     },
     "metadata": {},
     "output_type": "display_data"
    }
   ],
   "source": [
    "using HorizonSideRobots\n",
    "\n",
    "delta = [0,0] # X Y\n",
    "# the following function also changes delta to return later\n",
    "function moveDelta!(r::Robot, side::HorizonSide, delta::Vector)\n",
    "    move!(r, side)\n",
    "    x,y = delta\n",
    "    if Int(side) == 1 y += 1\n",
    "    elseif Int(side) == 2 x -= 1\n",
    "    elseif Int(side) == 3 y -= 1\n",
    "    else x += 1 end\n",
    "    return [x,y]\n",
    "end\n",
    "\n",
    "function markLine!(r::Robot,side::HorizonSide)\n",
    "    while isborder(r,side)==false \n",
    "        moveDelta!(r,side)\n",
    "        putmarker!(r)\n",
    "    end\n",
    "    return [x,y]\n",
    "end\n",
    "\n",
    "function moveTimes!(r::Robot, side::HorizonSide, times::Integer, delta)\n",
    "    for i in range(times):\n",
    "        moveDelta!(r, side, delta)\n",
    "    return [x,y]\n",
    "end\n",
    "\n",
    "function returnRobot(r::Robot, delta)\n",
    "    x,y = delta\n",
    "    if x > 0: moveTimes!(r, HorizonSide(2), x, delta) end\n",
    "    if x < 0: moveTimes!(r, HorizonSide(4), x, delta) end\n",
    "    if y > 0: moveTimes!(r, HorizonSide(3), y, delta) end\n",
    "    if y < 0: moveTimes!(r, HorizonSide(1), y, delta) end\n",
    "    return [x,y]\n",
    "end\n",
    "function cross!(r::Robot)\n",
    "    for i in range(1, 4)\n",
    "        side = HorizonSide(i)\n",
    "        markLine!(r,side)\n",
    "    end\n",
    "    putmarker!(r)\n",
    "end\n",
    "\n",
    "inverse(side::HorizonSide) = HorizonSide(abs(Int(side)-2)) \n",
    "r = Robot(\"default.sit\",animate=true)\n",
    "\n",
    "# cross!(r)   "
   ]
  }
 ],
 "metadata": {
  "kernelspec": {
   "display_name": "Julia 1.9.3",
   "language": "julia",
   "name": "julia-1.9"
  },
  "language_info": {
   "file_extension": ".jl",
   "mimetype": "application/julia",
   "name": "julia",
   "version": "1.9.3"
  },
  "orig_nbformat": 4
 },
 "nbformat": 4,
 "nbformat_minor": 2
}
