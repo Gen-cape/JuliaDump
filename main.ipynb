{
 "cells": [
  {
   "cell_type": "code",
   "execution_count": null,
   "metadata": {},
   "outputs": [],
   "source": [
    "# this repository contais files to practice with julia"
   ]
  },
  {
   "cell_type": "markdown",
   "metadata": {},
   "source": [
    "### 1 закрыть крест от исходного положения"
   ]
  },
  {
   "cell_type": "code",
   "execution_count": 6,
   "metadata": {},
   "outputs": [],
   "source": [
    "using HorizonSideRobots\n",
    "\n",
    "delta = [0,0] # X Y\n",
    "\n",
    "function moveDelta!(r::Robot, side::HorizonSide, delta::Vector)\n",
    "    move!(r, side)\n",
    "    x,y = delta\n",
    "    if Int(side) == 0 y += 1\n",
    "    elseif Int(side) == 1 x -= 1\n",
    "    elseif Int(side) == 2 y -= 1\n",
    "    else x += 1 end\n",
    "    return [x,y]\n",
    "end\n",
    "\n",
    "function markLine!(r::Robot,side::HorizonSide, delta::Vector)\n",
    "    while !isborder(r,side) \n",
    "        delta = moveDelta!(r,side,delta)\n",
    "        putmarker!(r)\n",
    "    end\n",
    "    return delta\n",
    "end\n",
    "\n",
    "function moveTimes!(r::Robot, side::HorizonSide, times::Integer, delta::Vector )\n",
    "    for _ in range(0, times)\n",
    "        delta = moveDelta!(r, side, delta)\n",
    "    end\n",
    "    return delta\n",
    "end\n",
    "\n",
    "function returnRobot(r::Robot, delta::Vector)\n",
    "    x,y = delta\n",
    "    if x > 0 delta=moveTimes!(r, HorizonSide(1), x -1, delta) end\n",
    "    if x < 0 delta=moveTimes!(r, HorizonSide(3), abs(x) - 1, delta) end\n",
    "    if y > 0 delta=moveTimes!(r, HorizonSide(2), y - 1, delta) end\n",
    "    if y < 0 delta=moveTimes!(r, HorizonSide(0), abs(y) - 1, delta) end\n",
    "    return delta\n",
    "end\n",
    "\n",
    "function cross!(r::Robot,delta::Vector)\n",
    "    for i in range(0, 3)\n",
    "        side = HorizonSide(i)\n",
    "        delta = markLine!(r,side,delta)\n",
    "        delta = returnRobot(r, delta)\n",
    "    end\n",
    "    putmarker!(r)\n",
    "end\n",
    "\n",
    "inverse(side::HorizonSide) = HorizonSide(mod(Int(side)+2,4))\n",
    "r = Robot(\"default.sit\",animate=true)\n",
    "\n",
    "cross!(r, delta)"
   ]
  },
  {
   "cell_type": "code",
   "execution_count": 3,
   "metadata": {},
   "outputs": [
    {
     "data": {
      "text/plain": [
       "Robot(HorizonSideRobots.SituationDatas.SituationData((0x000000000000000b, 0x000000000000000c), 1.0, true, (11, 1), [-143 -111 … 459 497; -2 470 … 324 -114; … ; 137 169 … -96 -141; 350 85 … -89 464], Set{Tuple{Int64, Int64}}(), Set{HorizonSide}[Set() Set() … Set() Set(); Set() Set() … Set() Set(); … ; Set() Set() … Set() Set(); Set() Set() … Set() Set()], (Scene (780px, 715px):\n",
       "  0 Plots\n",
       "  1 Child Scene:\n",
       "    └ Scene (780px, 715px), Axis (6 plots))), true)"
      ]
     },
     "metadata": {},
     "output_type": "display_data"
    }
   ],
   "source": [
    "using HorizonSideRobots\n",
    "r = Robot(animate=true)"
   ]
  },
  {
   "cell_type": "code",
   "execution_count": null,
   "metadata": {},
   "outputs": [],
   "source": []
  }
 ],
 "metadata": {
  "kernelspec": {
   "display_name": "Julia 1.9.3",
   "language": "julia",
   "name": "julia-1.9"
  },
  "language_info": {
   "file_extension": ".jl",
   "mimetype": "application/julia",
   "name": "julia",
   "version": "1.9.3"
  },
  "orig_nbformat": 4
 },
 "nbformat": 4,
 "nbformat_minor": 2
}
