{
 "cells": [
  {
   "cell_type": "markdown",
   "metadata": {},
   "source": [
    "## main file with solutions and functions for HorizonSideRobots course"
   ]
  },
  {
   "cell_type": "markdown",
   "metadata": {},
   "source": [
    "### Zero: function collecton, execute it!"
   ]
  },
  {
   "cell_type": "code",
   "execution_count": null,
   "metadata": {},
   "outputs": [],
   "source": [
    "using HorizonSideRobots\n",
    "\n",
    "\n",
    "\n",
    "\"\"\" the following function implements delta counter for X Y alterations over move! function \"\"\"\n",
    "function moveDelta!(r::Robot, side::HorizonSide, delta::Vector)::Vector\n",
    "    move!(r, side)\n",
    "    x,y = delta\n",
    "    if Int(side) == 0 y += 1\n",
    "    elseif Int(side) == 1 x -= 1\n",
    "    elseif Int(side) == 2 y -= 1\n",
    "    else x += 1 end\n",
    "    return [x,y]\n",
    "end\n",
    "\n",
    "\"\"\" the following function uses moveDelta! function to mark a line till the Robot object reaches the border \"\"\"\n",
    "function markLine!(r::Robot,side::HorizonSide, delta::Vector)::Vector\n",
    "    while !isborder(r,side) \n",
    "        delta = moveDelta!(r,side,delta)\n",
    "        putmarker!(r)\n",
    "    end\n",
    "    return delta\n",
    "end\n",
    "\n",
    "\"\"\" the following function uses moveDelta! function to move the Robot object to the border \"\"\"\n",
    "function moveTillBorder!(r::Robot,side::HorizonSide, delta::Vector)::Vector\n",
    "    while !isborder(r,side) \n",
    "        delta = moveDelta!(r,side,delta)\n",
    "    end\n",
    "    return delta\n",
    "end\n",
    "\n",
    "\n",
    "\n",
    "\"\"\"the following function uses moveDelta! function to move n times in the provided direction\"\"\"\n",
    "function moveTimes!(r::Robot, side::HorizonSide, times::Integer, delta::Vector)::Vector\n",
    "    for _ in range(0, times)\n",
    "        delta = moveDelta!(r, side, delta)\n",
    "    end\n",
    "    return delta\n",
    "end\n",
    "\n",
    "\"\"\"the following function returns robot using provided delta to return the Robot object to its initial position\"\"\"\n",
    "function returnRobot!(r::Robot, delta::Vector)::Vector\n",
    "    x,y = delta\n",
    "    if x > 0 delta=moveTimes!(r, HorizonSide(1), x -1, delta) end\n",
    "    if x < 0 delta=moveTimes!(r, HorizonSide(3), abs(x) - 1, delta) end\n",
    "    if y > 0 delta=moveTimes!(r, HorizonSide(2), y - 1, delta) end\n",
    "    if y < 0 delta=moveTimes!(r, HorizonSide(0), abs(y) - 1, delta) end\n",
    "    return delta\n",
    "end\n",
    "\n",
    "\"\"\"the following function fills the cross form\"\"\"\n",
    "function cross!(r::Robot,delta::Vector)\n",
    "    for i in range(0, 3)\n",
    "        side = HorizonSide(i)\n",
    "        delta = markLine!(r,side,delta)\n",
    "        delta = returnRobot!(r, delta)\n",
    "    end\n",
    "    putmarker!(r)\n",
    "end\n",
    "\n",
    "\n",
    "\"\"\"the following function changes the direction by 180 degrees\"\"\"\n",
    "inverse(side::HorizonSide) = HorizonSide(mod(Int(side)+2,4))\n",
    "\n",
    "print(\"All done, you can execute other cells now :)\")"
   ]
  },
  {
   "cell_type": "markdown",
   "metadata": {},
   "source": [
    "### Task 1: fill the cross"
   ]
  },
  {
   "cell_type": "code",
   "execution_count": null,
   "metadata": {},
   "outputs": [],
   "source": [
    "\"\"\"the following function fills the cross form\"\"\"\n",
    "function cross!(r::Robot,delta::Vector)\n",
    "    for i in range(0, 3)\n",
    "        side = HorizonSide(i)\n",
    "        delta = markLine!(r,side,delta)\n",
    "        delta = returnRobot!(r, delta)\n",
    "    end\n",
    "    putmarker!(r)\n",
    "end\n",
    "\n",
    "r = Robot(\"default.sit\",animate=true)\n",
    "\n",
    "cross!(r, [0,0])"
   ]
  },
  {
   "cell_type": "markdown",
   "metadata": {},
   "source": [
    "### Task 2: fill in the entire canvas"
   ]
  },
  {
   "cell_type": "code",
   "execution_count": null,
   "metadata": {},
   "outputs": [],
   "source": [
    "\"\"\"the following function fills the whole canvas\"\"\"\n",
    "function fullCanvas!(r::Robot, delta::Vector)\n",
    "    delta = moveTillBorder!(r, HorizonSide(2), delta)\n",
    "    delta = moveTillBorder!(r, HorizonSide(1), delta)\n",
    "    putmarker!(r)\n",
    "    while true\n",
    "        \"\"\"\n",
    "        moving direction is needed so that if the field has an odd number of columns,\n",
    "        the program does not forget to process the last column. for a square (and not a possible rectangle),\n",
    "        you can always check only the borders from the bottom and right in that particular case.\n",
    "        \"\"\"\n",
    "        movingDirection = HorizonSide(0)\n",
    "        if isborder(r, HorizonSide(2))\n",
    "            delta = markLine!(r, HorizonSide(0), delta)\n",
    "            movingDirection = HorizonSide(0)\n",
    "        else\n",
    "            delta = markLine!(r, HorizonSide(2), delta)\n",
    "            movingDirection = HorizonSide(2)\n",
    "        end\n",
    "\n",
    "        # stopping condition\n",
    "        if isborder(r, movingDirection) && isborder(r, HorizonSide(3)) break end\n",
    "        \n",
    "        delta = moveDelta!(r, HorizonSide(3), delta)\n",
    "        putmarker!(r)\n",
    "    end\n",
    "\n",
    "    delta = returnRobot!(r, delta)\n",
    "\n",
    "end\n",
    "\n",
    "r = Robot(\"default.sit\",animate=true)\n",
    "\n",
    "fullCanvas!(r, [0,0])"
   ]
  },
  {
   "cell_type": "markdown",
   "metadata": {},
   "source": [
    "### Task 3: fill in the perimeter"
   ]
  },
  {
   "cell_type": "code",
   "execution_count": null,
   "metadata": {},
   "outputs": [],
   "source": [
    "\"\"\"the following function fills the perimeter\"\"\"\n",
    "function perimeter!(r::Robot, delta::Vector)\n",
    "    delta = moveTillBorder!(r, HorizonSide(2), delta)\n",
    "    delta = moveTillBorder!(r, HorizonSide(1), delta)\n",
    "    delta = markLine!(r, HorizonSide(0), delta)\n",
    "    delta = markLine!(r, HorizonSide(3), delta)\n",
    "    delta = markLine!(r, HorizonSide(2), delta)\n",
    "    delta = markLine!(r, HorizonSide(1), delta)\n",
    "    \n",
    "    returnRobot!(r, delta)\n",
    "end\n",
    "\n",
    "r = Robot(\"default.sit\",animate=true)\n",
    "\n",
    "perimeter!(r, [0,0])"
   ]
  },
  {
   "cell_type": "markdown",
   "metadata": {},
   "source": [
    "### Task 4: task: fill in the tilted cross"
   ]
  },
  {
   "cell_type": "code",
   "execution_count": null,
   "metadata": {},
   "outputs": [],
   "source": [
    "\"\"\"\n",
    "\n",
    "reimplemented moveDelta! and markLine! with tilted direction 45 degrees left\n",
    "run the first cell after executing this one to return the original functions!\n",
    "\n",
    "\"\"\"\n",
    "\n",
    "function moveDelta!(r::Robot, side::HorizonSide, delta::Vector)::Vector\n",
    "    x,y = delta\n",
    "    if Int(side) == 0\n",
    "        y += 1\n",
    "        move!(r, side)\n",
    "        move!(r, HorizonSide(mod(Int(side)+1,4)))\n",
    "    elseif Int(side) == 1\n",
    "        x -= 1\n",
    "        move!(r, side)\n",
    "        move!(r, HorizonSide(mod(Int(side)+1,4)))\n",
    "    elseif Int(side) == 2\n",
    "        y -= 1\n",
    "        move!(r, side)\n",
    "        move!(r, HorizonSide(mod(Int(side)+1,4)))\n",
    "    else\n",
    "        x += 1\n",
    "        move!(r, side)\n",
    "        move!(r, HorizonSide(mod(Int(side)+1,4)))\n",
    "    end\n",
    "    return [x,y]\n",
    "end\n",
    "\n",
    "function markLine!(r::Robot,side::HorizonSide, delta::Vector)::Vector\n",
    "    while !isborder(r,side) && !isborder(r, HorizonSide(mod(Int(side)+1,4))) \n",
    "        delta = moveDelta!(r,side,delta)\n",
    "        putmarker!(r)\n",
    "    end\n",
    "    return delta\n",
    "end\n",
    "\n",
    "r = Robot(\"default.sit\",animate=true)\n",
    "\n",
    "cross!(r, [0,0])"
   ]
  }
 ],
 "metadata": {
  "kernelspec": {
   "display_name": "Julia 1.9.3",
   "language": "julia",
   "name": "julia-1.9"
  },
  "language_info": {
   "file_extension": ".jl",
   "mimetype": "application/julia",
   "name": "julia",
   "version": "1.9.3"
  },
  "orig_nbformat": 4
 },
 "nbformat": 4,
 "nbformat_minor": 2
}
